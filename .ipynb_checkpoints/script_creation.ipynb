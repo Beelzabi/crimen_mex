{
 "cells": [
  {
   "cell_type": "code",
   "execution_count": 1,
   "id": "30f5836e",
   "metadata": {},
   "outputs": [],
   "source": [
    "#Import libraries, CSV's and path to the repository directory\n",
    "import pandas as pd\n",
    "import numpy as np\n",
    "import glob\n",
    "\n",
    "path = 'E:/Documentos/GitHub/crimen_mex/'\n",
    "\n",
    "file1 = glob.glob(path + 'IDEFC*.csv')\n",
    "file2 = glob.glob(path + 'IDVFC*.csv')\n"
   ]
  },
  {
   "cell_type": "code",
   "execution_count": 2,
   "id": "d323a1d1",
   "metadata": {},
   "outputs": [],
   "source": [
    "#Create DataFrames\n",
    "df1 = pd.read_csv(file1[0], sep=',', encoding='latin-1')\n",
    "df2 = pd.read_csv(file2[0], sep=',', encoding='latin-1')\n",
    "\n",
    "#Discard unused columns\n",
    "df1.drop(df1[df1['Tipo de delito']=='Extorsión'].index, inplace=True)\n",
    "df1.drop(df1[df1['Bien jurídico afectado']=='La vida y la Integridad corporal'].index, inplace=True)\n",
    "df1.drop(df1[df1['Bien jurídico afectado']=='Libertad personal'].index, inplace=True)\n",
    "df1.drop(df1[df1['Bien jurídico afectado']=='La sociedad'].index, inplace=True)"
   ]
  },
  {
   "cell_type": "code",
   "execution_count": 5,
   "id": "cdf5b389",
   "metadata": {},
   "outputs": [],
   "source": [
    "#Path to the new CSV\n",
    "path1 = 'E:/Documentos/GitHub/crimen_mex/crimen_nac.csv'\n",
    "\n",
    "#Create a new DataFrame with the data from the past 2 DataFrames\n",
    "df3 = pd.concat([df1,df2], ignore_index=True, sort=False)\n",
    "\n",
    "#Fill missing information with identifiers\n",
    "df3['Sexo'] = df3['Sexo'].fillna('Averiguación previa')\n",
    "df3['Rango de edad'] = df3['Rango de edad'].fillna('No aplica')\n",
    "\n",
    "#Rename column to add new identifier\n",
    "df3.rename(columns={'Sexo':'Sexo/Averiguación previa'}, inplace=True)\n",
    "\n",
    "#Categorize strings in columns to match parameters\n",
    "df3.loc[df3['Tipo de delito'].str.contains('Feminicidio'), 'Tipo de delito'] = 'Homicidio'\n",
    "df3.loc[df3['Tipo de delito'].str.contains('Violación'), 'Tipo de delito'] = 'Violación'\n",
    "df3.loc[df3['Tipo de delito'].str.contains('Hostigamiento sexual'), 'Tipo de delito'] = 'Delito sexual'\n",
    "df3.loc[df3['Tipo de delito'].str.contains('Acoso sexual'), 'Tipo de delito'] = 'Delito sexual'\n",
    "df3.loc[df3['Tipo de delito'].str.contains('Abuso sexual'), 'Tipo de delito'] = 'Delito sexual'\n",
    "df3.loc[df3['Modalidad'].str.contains('Con violencia'), 'Tipo de delito'] = 'Robo con violencia'\n",
    "df3.loc[df3['Modalidad'].str.contains('Sin violencia'), 'Tipo de delito'] = 'Robo sin violencia'\n",
    "\n",
    "df3.loc[df3['Modalidad'].str.contains('coche de 4'), 'Subtipo de delito'] = 'Robo de vehículo automotor (4 R)'\n",
    "df3.loc[df3['Modalidad'].str.contains('motocicleta'), 'Subtipo de delito'] = 'Robo de vehículo automotor (2 R)'\n",
    "df3.loc[df3['Modalidad'].str.contains('embarcaciones'), 'Subtipo de delito'] = 'Robo de embarcaciones (pequeñas & grandes)'\n",
    "df3.loc[df3['Modalidad'].str.contains('herramienta industrial'), 'Subtipo de delito'] = 'Robo de maquinaria (herr. indust. o agrícola)'\n",
    "df3.loc[df3['Modalidad'].str.contains('tractores'), 'Subtipo de delito'] = 'Robo de maquinaria (tractores)'\n",
    "df3.loc[df3['Modalidad'].str.contains('cables, tubos'), 'Subtipo de delito'] = 'Robo de material destinado a serv. públicos'\n",
    "df3.loc[df3['Subtipo de delito'].str.contains('transeúnte'), 'Subtipo de delito'] = 'Robo a transeúnte en espacio o vía pública'\n",
    "df3.loc[df3['Subtipo de delito'].str.contains('transporte público'), 'Subtipo de delito'] = 'Robo en transporte público (indiv. & colect.)'\n",
    "\n",
    "df3.loc[df3['Modalidad'].str.contains('Secuestro'), 'Subtipo de delito'] = df3['Modalidad']\n",
    "df3.loc[df3['Modalidad'].str.contains('secuestros'), 'Subtipo de delito'] = df3['Modalidad']"
   ]
  },
  {
   "cell_type": "code",
   "execution_count": 6,
   "id": "3bb25da6",
   "metadata": {},
   "outputs": [],
   "source": [
    "#Discard unused column\n",
    "df3.drop(columns=['Modalidad'])\n",
    "\n",
    "#Save new DataFrame in CSV format\n",
    "df3.to_csv(path1, sep=',', header=True, index=False, encoding='latin-1')"
   ]
  }
 ],
 "metadata": {
  "kernelspec": {
   "display_name": "Python 3",
   "language": "python",
   "name": "python3"
  },
  "language_info": {
   "codemirror_mode": {
    "name": "ipython",
    "version": 3
   },
   "file_extension": ".py",
   "mimetype": "text/x-python",
   "name": "python",
   "nbconvert_exporter": "python",
   "pygments_lexer": "ipython3",
   "version": "3.11.3"
  }
 },
 "nbformat": 4,
 "nbformat_minor": 5
}
